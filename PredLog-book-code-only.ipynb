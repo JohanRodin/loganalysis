{
    "cells": [
        {
            "cell_type": "markdown",
            "metadata": {},
            "source": "## Initial data analysis on log files"
        },
        {
            "cell_type": "markdown",
            "metadata": {},
            "source": "Load the source file spp_log_192.168.99.81_20190919-133113.log"
        },
        {
            "cell_type": "code",
            "execution_count": null,
            "metadata": {},
            "outputs": [],
            "source": "# The code was removed by Watson Studio for sharing."
        },
        {
            "cell_type": "markdown",
            "metadata": {},
            "source": "Read it into a pandas table"
        },
        {
            "cell_type": "code",
            "execution_count": null,
            "metadata": {},
            "outputs": [],
            "source": "import io\n\ndf = pd.read_table(io.BytesIO(streaming_body_1.read()))"
        },
        {
            "cell_type": "code",
            "execution_count": null,
            "metadata": {},
            "outputs": [],
            "source": "df.head()"
        },
        {
            "cell_type": "markdown",
            "metadata": {},
            "source": "OK, right, seems like we got all json data in one row or something."
        },
        {
            "cell_type": "markdown",
            "metadata": {},
            "source": "Try instead to read the json. The out.json file contains valid json from my hard drive. I know it works."
        },
        {
            "cell_type": "code",
            "execution_count": null,
            "metadata": {},
            "outputs": [],
            "source": "\nbody = client_589fdcec84424efeafef706c303c6778.get_object(Bucket='predlog-donotdelete-pr-eptzlrr64e0mwe',Key='out.json')['Body']\n# add missing __iter__ method, so pandas accepts body as file-like object \n\nif not hasattr(body, \"__iter__\"): body.__iter__ = types.MethodType( __iter__, body )\n\n# Since JSON data can be semi-structured and contain additional metadata, it is possible that you might face an error during data loading.\n# Please read the documentation of 'pandas.read_json()' and 'pandas.io.json.json_normalize' to learn more about the possibilities to adjust the data loading.\n# pandas documentation: http://pandas.pydata.org/pandas-docs/stable/io.html#io-json-reader\n# and http://pandas.pydata.org/pandas-docs/stable/generated/pandas.io.json.json_normalize.html\n\ndf_data_1 = pd.read_json(body, orient='values')\ndf_data_1.head()\n"
        },
        {
            "cell_type": "markdown",
            "metadata": {},
            "source": "Let's apply the same code to our log file."
        },
        {
            "cell_type": "code",
            "execution_count": null,
            "metadata": {},
            "outputs": [],
            "source": "\nbody = client_589fdcec84424efeafef706c303c6778.get_object(Bucket='predlog-donotdelete-pr-eptzlrr64e0mwe',Key='spp_log_192.168.99.81_20190919-133113.json')['Body']\n# add missing __iter__ method, so pandas accepts body as file-like object \n\nif not hasattr(body, \"__iter__\"): body.__iter__ = types.MethodType( __iter__, body )\n\n# Since JSON data can be semi-structured and contain additional metadata, it is possible that you might face an error during data loading.\n# Please read the documentation of 'pandas.read_json()' and 'pandas.io.json.json_normalize' to learn more about the possibilities to adjust the data loading.\n# pandas documentation: http://pandas.pydata.org/pandas-docs/stable/io.html#io-json-reader\n# and http://pandas.pydata.org/pandas-docs/stable/generated/pandas.io.json.json_normalize.html\n\ndf_data_2 = pd.read_json(body, orient='values')\ndf_data_2.head()\n"
        },
        {
            "cell_type": "markdown",
            "metadata": {},
            "source": "Nope."
        },
        {
            "cell_type": "markdown",
            "metadata": {},
            "source": "# Try another log file in the set. Maybe the first one was corrupt."
        },
        {
            "cell_type": "markdown",
            "metadata": {},
            "source": "This one spp_log_192.168.99.81_20190919-144518.log and spp_log_192.168.99.81_20190919-145051.log."
        },
        {
            "cell_type": "code",
            "execution_count": null,
            "metadata": {},
            "outputs": [],
            "source": "\n# Your data file was loaded into a botocore.response.StreamingBody object.\n# Please read the documentation of ibm_boto3 and pandas to learn more about the possibilities to load the data.\n# ibm_boto3 documentation: https://ibm.github.io/ibm-cos-sdk-python/\n# pandas documentation: http://pandas.pydata.org/\nstreaming_body_2 = client_589fdcec84424efeafef706c303c6778.get_object(Bucket='predlog-donotdelete-pr-eptzlrr64e0mwe', Key='spp_log_192.168.99.81_20190919-144518.log')['Body']\n# add missing __iter__ method so pandas accepts body as file-like object\nif not hasattr(streaming_body_2, \"__iter__\"): streaming_body_2.__iter__ = types.MethodType( __iter__, streaming_body_2 ) \n"
        },
        {
            "cell_type": "code",
            "execution_count": null,
            "metadata": {},
            "outputs": [],
            "source": "\n# Your data file was loaded into a botocore.response.StreamingBody object.\n# Please read the documentation of ibm_boto3 and pandas to learn more about the possibilities to load the data.\n# ibm_boto3 documentation: https://ibm.github.io/ibm-cos-sdk-python/\n# pandas documentation: http://pandas.pydata.org/\nstreaming_body_3 = client_589fdcec84424efeafef706c303c6778.get_object(Bucket='predlog-donotdelete-pr-eptzlrr64e0mwe', Key='spp_log_192.168.99.81_20190919-145051.log')['Body']\n# add missing __iter__ method so pandas accepts body as file-like object\nif not hasattr(streaming_body_3, \"__iter__\"): streaming_body_3.__iter__ = types.MethodType( __iter__, streaming_body_3 ) \n"
        },
        {
            "cell_type": "code",
            "execution_count": null,
            "metadata": {},
            "outputs": [],
            "source": "df = pd.read_table(io.BytesIO(streaming_body_3.read()))"
        },
        {
            "cell_type": "code",
            "execution_count": null,
            "metadata": {},
            "outputs": [],
            "source": "df.head(1)"
        },
        {
            "cell_type": "markdown",
            "metadata": {},
            "source": "Try to read the json out of it."
        },
        {
            "cell_type": "code",
            "execution_count": null,
            "metadata": {},
            "outputs": [],
            "source": "json = df.read_json()"
        },
        {
            "cell_type": "markdown",
            "metadata": {},
            "source": "Bummer."
        },
        {
            "cell_type": "code",
            "execution_count": null,
            "metadata": {},
            "outputs": [],
            "source": "df = pd.read_table(io.BytesIO(streaming_body_2.read()))"
        },
        {
            "cell_type": "code",
            "execution_count": null,
            "metadata": {},
            "outputs": [],
            "source": "df.head()"
        },
        {
            "cell_type": "markdown",
            "metadata": {},
            "source": "I went back to json formatter outside of this notebook to check the json. Seems something is not right.\n\n## Terminal commands to process files to be able to use them in jupyter notebook\n\nFound out I had to replace single quote with double quote.\n\ntr \"'\" '\"' <spp_log_192.168.99.81_20190919-133113.log > outfile.log\n\nNone was without double quotes\n\ncat outfile.log | sed 's/None/\\\"None\\\"/g' > outfile2.log\n  \nTrue was without double quotes\n\ncat outfile2.log | sed 's/True/\\\"True\\\"/g' > outfile3.log\n  \nFalse was without double quotes\n\ncat outfile3.log | sed 's/False/\\\"False\\\"/g' > outfile4.log\n    \n    "
        },
        {
            "cell_type": "markdown",
            "metadata": {},
            "source": "# The result was a preprocessed file called outfile4.log"
        },
        {
            "cell_type": "code",
            "execution_count": null,
            "metadata": {},
            "outputs": [],
            "source": "\n# Your data file was loaded into a botocore.response.StreamingBody object.\n# Please read the documentation of ibm_boto3 and pandas to learn more about the possibilities to load the data.\n# ibm_boto3 documentation: https://ibm.github.io/ibm-cos-sdk-python/\n# pandas documentation: http://pandas.pydata.org/\nstreaming_body_4 = client_589fdcec84424efeafef706c303c6778.get_object(Bucket='predlog-donotdelete-pr-eptzlrr64e0mwe', Key='outfile4.log')['Body']\n# add missing __iter__ method so pandas accepts body as file-like object\nif not hasattr(streaming_body_4, \"__iter__\"): streaming_body_4.__iter__ = types.MethodType( __iter__, streaming_body_4 ) \n"
        },
        {
            "cell_type": "code",
            "execution_count": null,
            "metadata": {},
            "outputs": [],
            "source": "import io\n\ndf = pd.read_table(io.BytesIO(streaming_body_4.read()))"
        },
        {
            "cell_type": "code",
            "execution_count": null,
            "metadata": {},
            "outputs": [],
            "source": "df.head()"
        },
        {
            "cell_type": "markdown",
            "metadata": {},
            "source": "Hmm, better, and let's see what is inside. The formatter also gave me a clue to a section called 'alerts'"
        },
        {
            "cell_type": "markdown",
            "metadata": {},
            "source": "# alerts is a list of alerts we want to convert to a table. \n## This is the columns (keys) with 2696 rows (values) of data:\n    \"links\": {\n        \"self\": {\n          \"rel\": \"self\",\n          \"href\": \"https://192.168.99.81/api/endeavour/alert/message/5c963e61e4b0f2f874f9ac27\",\n          \"hreflang\": \"None\",\n          \"media\": \"None\",\n          \"title\": \"None\",\n          \"type\": \"None\",\n          \"deprecation\": \"None\"\n        },\n        \"up\": {\n          \"rel\": \"up\",\n          \"href\": \"https://192.168.99.81/api/endeavour/alert/message\",\n          \"hreflang\": \"None\",\n          \"media\": \"None\",\n          \"title\": \"None\",\n          \"type\": \"None\",\n          \"deprecation\": \"None\"\n        }\n      },\n      \"name\": \"SQLLOG_ALERT_MESSAGE\",\n      \"alertTime\": 1553350241025,\n      \"category\": \"APPLICATION\",\n      \"categoryDisplayName\": \"APPLICATION\",\n      \"type\": \"ERROR\",\n      \"typeDisplayName\": \"ERROR\",\n      \"initialMessage\": \"Log backup failed for database [WideWorldImporters] on instance [SQL2016]. An exception occurred while executing a Transact-SQL statement or batch.. Error: 0x80131501\",\n      \"message\": \"Log backup failed for database [WideWorldImporters] on instance [SQL2016]. An exception occurred while executing a Transact-SQL statement or batch.. Error: 0x80131501\",\n      \"messageName\": \"None\",\n      \"messageParams\": \"None\",\n      \"initMessageParams\": \"None\",\n      \"dataSource\": \"agent_sql_log\",\n      \"status\": \"UNKNOWN\",\n      \"statusDisplayName\": \"UNKNOWN\",\n      \"storageId\": \"None\",\n      \"serverId\": \"None\",\n      \"jobId\": \"None\",\n      \"jobSessionId\": \"None\",\n      \"retention\": 180,\n      \"first\": 1553350241025,\n      \"last\": 1553350241025,\n      \"expiresAt\": 1568902241026,\n      \"count\": 1,\n      \"acknowledged\": \"True\",\n      \"expired\": \"False\",\n      \"unique\": \"False\",\n      \"id\": \"5c963e61e4b0f2f874f9ac27\""
        },
        {
            "cell_type": "markdown",
            "metadata": {},
            "source": "Another try with separator."
        },
        {
            "cell_type": "code",
            "execution_count": null,
            "metadata": {},
            "outputs": [],
            "source": "df_extracted=pd.read_csv(io.BytesIO(streaming_body_4.read()), sep='\\t')"
        },
        {
            "cell_type": "markdown",
            "metadata": {},
            "source": "Nope."
        },
        {
            "cell_type": "markdown",
            "metadata": {},
            "source": "Pseudo code"
        },
        {
            "cell_type": "code",
            "execution_count": null,
            "metadata": {},
            "outputs": [],
            "source": "#extract alerts into rowList\n\n#iterate over rowList and do something\n#for row in rowList:\n#    print(row)"
        },
        {
            "cell_type": "code",
            "execution_count": null,
            "metadata": {},
            "outputs": [],
            "source": "df42 = pd.read_json(io.BytesIO(streaming_body_4.read()))"
        },
        {
            "cell_type": "code",
            "execution_count": null,
            "metadata": {},
            "outputs": [],
            "source": "df.columns"
        },
        {
            "cell_type": "markdown",
            "metadata": {},
            "source": "# Right, seems we are getting somewhere now. Could we reach the columns and how do they look like?"
        },
        {
            "cell_type": "code",
            "execution_count": null,
            "metadata": {},
            "outputs": [],
            "source": "df.describe"
        },
        {
            "cell_type": "markdown",
            "metadata": {},
            "source": "Try to grab the interesting column alerts."
        },
        {
            "cell_type": "code",
            "execution_count": null,
            "metadata": {},
            "outputs": [],
            "source": "dfObj = pd.DataFrame(df, columns = ['alerts'])\ndfObj.head()"
        },
        {
            "cell_type": "markdown",
            "metadata": {},
            "source": "Empty! How many are there?"
        },
        {
            "cell_type": "code",
            "execution_count": null,
            "metadata": {},
            "outputs": [],
            "source": "df.columns.size"
        },
        {
            "cell_type": "markdown",
            "metadata": {},
            "source": "One, should be multiple!\n\nGo back and try no 4."
        },
        {
            "cell_type": "code",
            "execution_count": null,
            "metadata": {},
            "outputs": [],
            "source": "df45 = pd.read_table(io.BytesIO(streaming_body_4.read()))"
        },
        {
            "cell_type": "code",
            "execution_count": null,
            "metadata": {},
            "outputs": [],
            "source": "df45.head()"
        },
        {
            "cell_type": "code",
            "execution_count": null,
            "metadata": {},
            "outputs": [],
            "source": "\nbody = client_589fdcec84424efeafef706c303c6778.get_object(Bucket='predlog-donotdelete-pr-eptzlrr64e0mwe',Key='outfile4.json')['Body']\n# add missing __iter__ method, so pandas accepts body as file-like object \n\nif not hasattr(body, \"__iter__\"): body.__iter__ = types.MethodType( __iter__, body )\n\n# Since JSON data can be semi-structured and contain additional metadata, it is possible that you might face an error during data loading.\n# Please read the documentation of 'pandas.read_json()' and 'pandas.io.json.json_normalize' to learn more about the possibilities to adjust the data loading.\n# pandas documentation: http://pandas.pydata.org/pandas-docs/stable/io.html#io-json-reader\n# and http://pandas.pydata.org/pandas-docs/stable/generated/pandas.io.json.json_normalize.html\n\ndf_data_3 = pd.read_json(body, orient='values')\ndf_data_3.head()\n"
        },
        {
            "cell_type": "markdown",
            "metadata": {},
            "source": "# This is not right! Search blogs and posts on reading json. Found one on StringIO. Testing..."
        },
        {
            "cell_type": "code",
            "execution_count": null,
            "metadata": {},
            "outputs": [],
            "source": "import json\nimport pandas as pd\n\nfrom pandas.io.json import json_normalize\n\nbody = client_589fdcec84424efeafef706c303c6778.get_object(Bucket='predlog-donotdelete-pr-eptzlrr64e0mwe',Key='outfile4.json')['Body']\n# add missing __iter__ method, so pandas accepts body as file-like object \n\nif not hasattr(body, \"__iter__\"): body.__iter__ = types.MethodType( __iter__, body )\n    \nstring_out = io.StringIO()\nstring_out.write(body.read().decode(\"utf-8\"))\n\nstring_out.getvalue()\n\n#data = json.load(open(string_out.getvalue()))\n#data = json.load(string_out.getvalue())\n\n#string_out.getvalue()\n#data = pd.read_json(string_out.getvalue())\n#df47 = pd.DataFrame(data[\"alerts\"])\n\n#df47.head()\n\njdata=json.loads(string_out.getvalue())\n#print(jdata['alerts'])\n\nlen(jdata['alerts'])"
        },
        {
            "cell_type": "markdown",
            "metadata": {},
            "source": "# Wow! Now we're talking. This seems right. 2696 rows of data. Yes!"
        },
        {
            "cell_type": "code",
            "execution_count": null,
            "metadata": {},
            "outputs": [],
            "source": "#for row in jdata['alerts']:\n#    \n#    print(row)\n    \n# credit to https://www.geeksforgeeks.org/pandas-parsing-json-dataset/\n\n\nnewdf = json_normalize(jdata['alerts']) \nnewdf.head(3) "
        },
        {
            "cell_type": "markdown",
            "metadata": {},
            "source": "# Bingo!"
        },
        {
            "cell_type": "code",
            "execution_count": null,
            "metadata": {},
            "outputs": [],
            "source": "newdf.columns"
        },
        {
            "cell_type": "code",
            "execution_count": null,
            "metadata": {},
            "outputs": [],
            "source": "newdf.columns.size"
        },
        {
            "cell_type": "markdown",
            "metadata": {},
            "source": "55 columns"
        },
        {
            "cell_type": "code",
            "execution_count": null,
            "metadata": {},
            "outputs": [],
            "source": "newdf.shape"
        },
        {
            "cell_type": "code",
            "execution_count": null,
            "metadata": {},
            "outputs": [],
            "source": "newdf"
        },
        {
            "cell_type": "code",
            "execution_count": null,
            "metadata": {},
            "outputs": [],
            "source": "newdf.describe()"
        },
        {
            "cell_type": "code",
            "execution_count": null,
            "metadata": {},
            "outputs": [],
            "source": "newdf['category'].unique()\n"
        },
        {
            "cell_type": "code",
            "execution_count": null,
            "metadata": {},
            "outputs": [],
            "source": "newdf['dataSource'].unique()"
        },
        {
            "cell_type": "code",
            "execution_count": null,
            "metadata": {},
            "outputs": [],
            "source": "newdf['type'].unique()"
        },
        {
            "cell_type": "code",
            "execution_count": null,
            "metadata": {},
            "outputs": [],
            "source": "newdf['name'].unique()"
        },
        {
            "cell_type": "code",
            "execution_count": null,
            "metadata": {},
            "outputs": [],
            "source": "#newdf['message'].unique() => 51\nnewdf['message']"
        },
        {
            "cell_type": "code",
            "execution_count": null,
            "metadata": {},
            "outputs": [],
            "source": "newdf['message'][2690]"
        },
        {
            "cell_type": "markdown",
            "metadata": {},
            "source": "# timestamp in column alertTime, try to convert to readable format"
        },
        {
            "cell_type": "code",
            "execution_count": null,
            "metadata": {},
            "outputs": [],
            "source": "#df['date'] = pd.to_datetime(df['date'],unit='s')\n\nnewdf['alertTime'] = pd.to_datetime(newdf['alertTime'], unit='ms')"
        },
        {
            "cell_type": "code",
            "execution_count": null,
            "metadata": {},
            "outputs": [],
            "source": "newdf.isnull().any()"
        },
        {
            "cell_type": "code",
            "execution_count": null,
            "metadata": {},
            "outputs": [],
            "source": "newdf.head(10)"
        },
        {
            "cell_type": "markdown",
            "metadata": {},
            "source": "Let's see all columns with data"
        },
        {
            "cell_type": "code",
            "execution_count": null,
            "metadata": {},
            "outputs": [],
            "source": "pd.set_option('display.max_columns', None)\npd.set_option('display.max_rows', None)"
        },
        {
            "cell_type": "code",
            "execution_count": null,
            "metadata": {},
            "outputs": [],
            "source": "newdf.head(10)"
        },
        {
            "cell_type": "code",
            "execution_count": null,
            "metadata": {},
            "outputs": [],
            "source": "newdf['links.clear.rel'].describe()"
        },
        {
            "cell_type": "markdown",
            "metadata": {},
            "source": "Hmm, still links.clear.rel and others show up as NaN in listing, still they have values (I guess string)."
        },
        {
            "cell_type": "code",
            "execution_count": null,
            "metadata": {},
            "outputs": [],
            "source": "newdf.dtypes"
        },
        {
            "cell_type": "code",
            "execution_count": null,
            "metadata": {},
            "outputs": [],
            "source": "newdf['links.clear.rel'] = newdf['links.clear.rel'].astype('str') "
        },
        {
            "cell_type": "code",
            "execution_count": null,
            "metadata": {},
            "outputs": [],
            "source": "newdf.dtypes"
        },
        {
            "cell_type": "markdown",
            "metadata": {},
            "source": "Still object."
        },
        {
            "cell_type": "code",
            "execution_count": null,
            "metadata": {},
            "outputs": [],
            "source": "newdf.head(10)"
        },
        {
            "cell_type": "code",
            "execution_count": null,
            "metadata": {},
            "outputs": [],
            "source": "newdf['links.clear.rel'][2687]"
        },
        {
            "cell_type": "code",
            "execution_count": null,
            "metadata": {},
            "outputs": [],
            "source": "newdf.head()"
        },
        {
            "cell_type": "code",
            "execution_count": null,
            "metadata": {},
            "outputs": [],
            "source": "newdf.iloc[2687]"
        },
        {
            "cell_type": "code",
            "execution_count": null,
            "metadata": {},
            "outputs": [],
            "source": "newdf.dtypes.value_counts() #normalize=True)"
        },
        {
            "cell_type": "code",
            "execution_count": null,
            "metadata": {
                "scrolled": false
            },
            "outputs": [],
            "source": "#df.astype({'col1': 'int32'}).dtypes\n\nnewdf.astype({'links.clear.rel': str})\n\nnewdf['links.clear.rel']= newdf['links.clear.rel'].astype(str) \n\nnewdf.dtypes.value_counts()"
        },
        {
            "cell_type": "code",
            "execution_count": null,
            "metadata": {},
            "outputs": [],
            "source": "newdf.head()"
        },
        {
            "cell_type": "code",
            "execution_count": null,
            "metadata": {},
            "outputs": [],
            "source": "newdf.dtypes"
        },
        {
            "cell_type": "code",
            "execution_count": null,
            "metadata": {},
            "outputs": [],
            "source": "# side track to test astype\n# importing pandas module  \nimport pandas as pd \n  \n# reading csv file from url  \ndata = pd.read_csv(\"https://media.geeksforgeeks.org/wp-content/uploads/nba.csv\") \n   \n# dropping null value columns to avoid errors \ndata.dropna(inplace = True) \n  \n# storing dtype before converting \nbefore = data.dtypes \n  \n# converting dtypes using astype \ndata[\"Salary\"]= data[\"Salary\"].astype(int) \ndata[\"Number\"]= data[\"Number\"].astype(str) \n  \n# storing dtype after converting \nafter = data.dtypes \n  \n# printing to compare \nprint(\"BEFORE CONVERSION\\n\", before, \"\\n\") \nprint(\"AFTER CONVERSION\\n\", after, \"\\n\") \n"
        },
        {
            "cell_type": "code",
            "execution_count": null,
            "metadata": {},
            "outputs": [],
            "source": "newdf.head()"
        },
        {
            "cell_type": "code",
            "execution_count": null,
            "metadata": {},
            "outputs": [],
            "source": "newdf.isnull().any()"
        },
        {
            "cell_type": "markdown",
            "metadata": {},
            "source": "# Let's move on and save our work now to object storage."
        },
        {
            "cell_type": "code",
            "execution_count": null,
            "metadata": {},
            "outputs": [],
            "source": "# The code was removed by Watson Studio for sharing."
        },
        {
            "cell_type": "markdown",
            "metadata": {},
            "source": "Read back for test."
        },
        {
            "cell_type": "code",
            "execution_count": null,
            "metadata": {},
            "outputs": [],
            "source": "\n#prepare files\nnewdf.to_pickle('./df_raw.pkl')\n\n#upload files to storage\nclient_cred.upload_file('./df_raw.pkl',bucket,'df_raw_cos.pkl')\n\n#Download file for data set\nclient_cred.download_file(Bucket=bucket,Key='df_raw_cos.pkl',Filename='./df_raw_local.pkl')\ndf_downloaded = pd.read_pickle('./df_raw_local.pkl')\n\ndf_downloaded.head()"
        },
        {
            "cell_type": "markdown",
            "metadata": {},
            "source": "# There you go. Prepared one file for futher analysis. \n\n# This concludes the initial data analysis on the log files."
        },
        {
            "cell_type": "code",
            "execution_count": null,
            "metadata": {},
            "outputs": [],
            "source": ""
        }
    ],
    "metadata": {
        "kernelspec": {
            "display_name": "Python 3.6",
            "language": "python",
            "name": "python3"
        },
        "language_info": {
            "codemirror_mode": {
                "name": "ipython",
                "version": 3
            },
            "file_extension": ".py",
            "mimetype": "text/x-python",
            "name": "python",
            "nbconvert_exporter": "python",
            "pygments_lexer": "ipython3",
            "version": "3.6.9"
        }
    },
    "nbformat": 4,
    "nbformat_minor": 1
}